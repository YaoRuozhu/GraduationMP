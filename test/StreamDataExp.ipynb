{
 "cells": [
  {
   "cell_type": "code",
   "execution_count": 1,
   "metadata": {},
   "outputs": [],
   "source": [
    "import pandas as pd\n",
    "import numpy as np\n",
    "# Imports\n",
    "from skmultiflow.meta import AdaptiveRandomForestClassifier"
   ]
  },
  {
   "cell_type": "code",
   "execution_count": 6,
   "metadata": {},
   "outputs": [],
   "source": [
    "data=pd.read_csv(\"/Users/meruozhu/Downloads/MP_data/MP_codes/MP/Data/test_dataset/InternationalDeclarations.csv\")"
   ]
  },
  {
   "cell_type": "code",
   "execution_count": 7,
   "metadata": {},
   "outputs": [
    {
     "data": {
      "text/plain": [
       "0        39.664561\n",
       "1        39.664561\n",
       "2        39.664561\n",
       "3        39.664561\n",
       "4        39.664561\n",
       "           ...    \n",
       "72146     0.000000\n",
       "72147     0.000000\n",
       "72148     0.000000\n",
       "72149     0.000000\n",
       "72150     0.000000\n",
       "Name: case:AdjustedAmount, Length: 72151, dtype: float64"
      ]
     },
     "execution_count": 7,
     "metadata": {},
     "output_type": "execute_result"
    }
   ],
   "source": [
    "data[\"case:AdjustedAmount\"]"
   ]
  },
  {
   "cell_type": "code",
   "execution_count": 5,
   "metadata": {},
   "outputs": [],
   "source": [
    "from skmultiflow.data.file_stream import FileStream\n",
    "from skmultiflow.data import DataStream"
   ]
  },
  {
   "cell_type": "code",
   "execution_count": 8,
   "metadata": {},
   "outputs": [],
   "source": [
    "X=data[[\"case:Amount\",\"case:RequestedAmount\",\"case:OriginalAmount\",\"case:Permit RequestedBudget\"]]\n",
    "stream=DataStream(X,y=data[\"case:AdjustedAmount\"].values)"
   ]
  },
  {
   "cell_type": "code",
   "execution_count": 9,
   "metadata": {},
   "outputs": [
    {
     "data": {
      "text/plain": [
       "Index(['Unnamed: 0', 'case:Amount', 'case:RequestedAmount',\n",
       "       'case:OriginalAmount', 'case:Permit RequestedBudget',\n",
       "       'case:AdjustedAmount'],\n",
       "      dtype='object')"
      ]
     },
     "execution_count": 9,
     "metadata": {},
     "output_type": "execute_result"
    }
   ],
   "source": [
    "data.select_dtypes(include=np.number).columns"
   ]
  },
  {
   "cell_type": "code",
   "execution_count": 10,
   "metadata": {},
   "outputs": [],
   "source": [
    "# filestream\n",
    "data[data.select_dtypes(include=np.number).columns.to_list()].drop(\"Unnamed: 0\",axis=1).to_csv(\"numeric.csv\",index=False)\n",
    "stream=FileStream(\"numeric.csv\",target_idx=-1)"
   ]
  },
  {
   "cell_type": "code",
   "execution_count": 11,
   "metadata": {},
   "outputs": [
    {
     "name": "stdout",
     "output_type": "stream",
     "text": [
      "Adaptive Random Forest ensemble classifier example\n",
      "200 samples analyzed.\n",
      "Accuracy: 0.0\n"
     ]
    }
   ],
   "source": [
    "# Setup Adaptive Random Forest Classifier\n",
    "arf = AdaptiveRandomForestClassifier()\n",
    "# Setup variables to control loop and track performance\n",
    "n_samples = 0\n",
    "correct_cnt = 0\n",
    "max_samples = 200\n",
    "# Train the estimator with the samples provided by the data stream\n",
    "while n_samples < max_samples and stream.has_more_samples():\n",
    "    X, y = stream.next_sample()\n",
    "    y_pred = arf.predict(X)\n",
    "    if y[0] == y_pred[0]:\n",
    "        correct_cnt += 1\n",
    "    arf.partial_fit(X, y)\n",
    "    n_samples += 1\n",
    "# Display results\n",
    "print('Adaptive Random Forest ensemble classifier example')\n",
    "print('{} samples analyzed.'.format(n_samples))\n",
    "print('Accuracy: {}'.format(correct_cnt / n_samples))"
   ]
  }
 ],
 "metadata": {
  "kernelspec": {
   "display_name": "stream",
   "language": "python",
   "name": "python3"
  },
  "language_info": {
   "codemirror_mode": {
    "name": "ipython",
    "version": 3
   },
   "file_extension": ".py",
   "mimetype": "text/x-python",
   "name": "python",
   "nbconvert_exporter": "python",
   "pygments_lexer": "ipython3",
   "version": "3.7.7"
  },
  "orig_nbformat": 4
 },
 "nbformat": 4,
 "nbformat_minor": 2
}
