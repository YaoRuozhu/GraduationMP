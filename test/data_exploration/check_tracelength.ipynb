{
 "cells": [
  {
   "cell_type": "code",
   "execution_count": 1,
   "metadata": {},
   "outputs": [],
   "source": [
    "import pandas as pd\n",
    "import numpy as np\n",
    "from matplotlib import pyplot as plt\n",
    "import os"
   ]
  },
  {
   "cell_type": "code",
   "execution_count": 2,
   "metadata": {},
   "outputs": [],
   "source": [
    "datafile=\"/Users/meruozhu/Downloads/MP_data/MP_codes/MP/Data/test_dataset/Hospital+BPI12_medium.csv\"\n",
    "original_datafile=\"/Users/meruozhu/Downloads/MP_data/MP_codes/MP/Data/sudden_drift/Hospital+BPI12_new.csv\"\n",
    "hospital_test=\"/Users/meruozhu/Downloads/MP_data/MP_codes/MP/Data/test_dataset/Hospital+BPI12_medium.csv\""
   ]
  },
  {
   "cell_type": "code",
   "execution_count": 3,
   "metadata": {},
   "outputs": [
    {
     "name": "stderr",
     "output_type": "stream",
     "text": [
      "/Users/meruozhu/opt/anaconda3/envs/pmGrad/lib/python3.7/site-packages/IPython/core/interactiveshell.py:3457: DtypeWarning: Columns (1,2,3,4,10,14,15,18,22,23,24,25,26,27,29,32,36,38,41,43,45,48,49,50,51,55,56,57,61,66,67,71,72,73,74,84,85,87,88,89,90,91,92,94,95,96,97,98,99,100,105,107,109,121,122,123,124,125,131) have mixed types.Specify dtype option on import or set low_memory=False.\n",
      "  exec(code_obj, self.user_global_ns, self.user_ns)\n"
     ]
    }
   ],
   "source": [
    "# df=pd.read_csv(datafile,index_col=0)\n",
    "# original_data=pd.read_csv(original_datafile)\n",
    "hospital_data=pd.read_csv(original_datafile)"
   ]
  },
  {
   "cell_type": "code",
   "execution_count": 40,
   "metadata": {},
   "outputs": [
    {
     "data": {
      "text/plain": [
       "329307"
      ]
     },
     "execution_count": 40,
     "metadata": {},
     "output_type": "execute_result"
    }
   ],
   "source": [
    "original_data['case:Treatment code'].isna().sum()"
   ]
  },
  {
   "cell_type": "code",
   "execution_count": 41,
   "metadata": {},
   "outputs": [],
   "source": [
    "res=original_data.apply(lambda x: x.isna(),axis=0).sum(axis=0)"
   ]
  },
  {
   "cell_type": "code",
   "execution_count": 42,
   "metadata": {},
   "outputs": [
    {
     "data": {
      "text/plain": [
       "[('case:concept:name', 0)]"
      ]
     },
     "execution_count": 42,
     "metadata": {},
     "output_type": "execute_result"
    }
   ],
   "source": [
    "list(filter(lambda pair:pair[1]==0, res[list(filter(lambda x:'case' in x, res.keys()))].items()))"
   ]
  },
  {
   "cell_type": "code",
   "execution_count": 43,
   "metadata": {},
   "outputs": [
    {
     "data": {
      "text/plain": [
       "array(['case_id_0', 'case_id_1', 'case_id_2', ..., 'case_id_14227',\n",
       "       'case_id_14228', 'case_id_14229'], dtype=object)"
      ]
     },
     "execution_count": 43,
     "metadata": {},
     "output_type": "execute_result"
    }
   ],
   "source": [
    "original_data['case:concept:name'].unique()"
   ]
  },
  {
   "cell_type": "code",
   "execution_count": 7,
   "metadata": {},
   "outputs": [
    {
     "data": {
      "text/plain": [
       "Unnamed: 0\n",
       "0      103.0\n",
       "1      103.0\n",
       "2      103.0\n",
       "3      103.0\n",
       "4      103.0\n",
       "       ...  \n",
       "995      NaN\n",
       "996      NaN\n",
       "997      NaN\n",
       "998      NaN\n",
       "999      NaN\n",
       "Name: case, Length: 1000, dtype: float64"
      ]
     },
     "execution_count": 7,
     "metadata": {},
     "output_type": "execute_result"
    }
   ],
   "source": [
    "df['case']"
   ]
  },
  {
   "cell_type": "code",
   "execution_count": null,
   "metadata": {},
   "outputs": [],
   "source": []
  },
  {
   "cell_type": "markdown",
   "metadata": {},
   "source": [
    "# num of traces"
   ]
  },
  {
   "cell_type": "code",
   "execution_count": 4,
   "metadata": {},
   "outputs": [],
   "source": [
    "case_count = hospital_data.groupby('case').count()['Unnamed: 0']"
   ]
  },
  {
   "cell_type": "code",
   "execution_count": 5,
   "metadata": {},
   "outputs": [
    {
     "data": {
      "text/plain": [
       "14230"
      ]
     },
     "execution_count": 5,
     "metadata": {},
     "output_type": "execute_result"
    }
   ],
   "source": [
    "len(case_count)"
   ]
  },
  {
   "cell_type": "code",
   "execution_count": 25,
   "metadata": {},
   "outputs": [
    {
     "data": {
      "text/plain": [
       "59"
      ]
     },
     "execution_count": 25,
     "metadata": {},
     "output_type": "execute_result"
    }
   ],
   "source": [
    "np.sum(case_count>500)"
   ]
  },
  {
   "cell_type": "code",
   "execution_count": 20,
   "metadata": {},
   "outputs": [
    {
     "data": {
      "text/plain": [
       "1814"
      ]
     },
     "execution_count": 20,
     "metadata": {},
     "output_type": "execute_result"
    }
   ],
   "source": [
    "max(case_count)"
   ]
  },
  {
   "cell_type": "code",
   "execution_count": 8,
   "metadata": {},
   "outputs": [],
   "source": [
    "preserved_keys=list(map(lambda x:x[0],list(filter(lambda pair:pair[1]<300,hospital_data.reset_index().groupby('case').count()['Unnamed: 0'].items()))))"
   ]
  },
  {
   "cell_type": "code",
   "execution_count": 36,
   "metadata": {},
   "outputs": [
    {
     "data": {
      "text/plain": [
       "['case_id_0',\n",
       " 'case_id_1',\n",
       " 'case_id_2',\n",
       " 'case_id_3',\n",
       " 'case_id_4',\n",
       " 'case_id_5',\n",
       " 'case_id_6']"
      ]
     },
     "execution_count": 36,
     "metadata": {},
     "output_type": "execute_result"
    }
   ],
   "source": [
    "preserved_keys"
   ]
  },
  {
   "cell_type": "code",
   "execution_count": 37,
   "metadata": {},
   "outputs": [],
   "source": [
    "hospital_data_small_trace_length_data=hospital_data[hospital_data['case'].isin(preserved_keys)]"
   ]
  },
  {
   "cell_type": "code",
   "execution_count": 38,
   "metadata": {},
   "outputs": [],
   "source": [
    "from pathlib import Path"
   ]
  },
  {
   "cell_type": "code",
   "execution_count": 39,
   "metadata": {},
   "outputs": [],
   "source": [
    "short_trace_path=Path(hospital_test).parent/(Path(hospital_test).stem+\"short_length_trace_leq_100\"+\".csv\")\n",
    "# assert short_trace_path.exists()==False, \"File already exists\"\n",
    "hospital_data_small_trace_length_data.to_csv(short_trace_path)"
   ]
  },
  {
   "cell_type": "code",
   "execution_count": null,
   "metadata": {},
   "outputs": [],
   "source": []
  }
 ],
 "metadata": {
  "kernelspec": {
   "display_name": "pmGrad",
   "language": "python",
   "name": "python3"
  },
  "language_info": {
   "codemirror_mode": {
    "name": "ipython",
    "version": 3
   },
   "file_extension": ".py",
   "mimetype": "text/x-python",
   "name": "python",
   "nbconvert_exporter": "python",
   "pygments_lexer": "ipython3",
   "version": "3.7.7"
  },
  "orig_nbformat": 4
 },
 "nbformat": 4,
 "nbformat_minor": 2
}
