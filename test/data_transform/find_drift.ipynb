{
 "cells": [
  {
   "cell_type": "code",
   "execution_count": 1,
   "metadata": {},
   "outputs": [],
   "source": [
    "import pandas as pd\n",
    "import numpy as np\n",
    "import datetime as datetime"
   ]
  },
  {
   "cell_type": "code",
   "execution_count": 2,
   "metadata": {},
   "outputs": [
    {
     "name": "stderr",
     "output_type": "stream",
     "text": [
      "/Users/meruozhu/opt/anaconda3/envs/pmGrad/lib/python3.7/site-packages/tqdm/auto.py:22: TqdmWarning: IProgress not found. Please update jupyter and ipywidgets. See https://ipywidgets.readthedocs.io/en/stable/user_install.html\n",
      "  from .autonotebook import tqdm as notebook_tqdm\n"
     ]
    }
   ],
   "source": [
    "import sys\n",
    "sys.path.append('/Users/meruozhu/Downloads/MP_data/MP_codes/MP')\n",
    "import json\n",
    "from pathlib import Path\n",
    "from DPM.task_free_continual_learning_arf.main_provide_data_model import main\n",
    "from experiments.config import ConfigParser\n",
    "from experiments.config import Recorder\n",
    "import matplotlib.pyplot as plt\n",
    "import os\n",
    "import sys\n",
    "sys.path.append('/Users/meruozhu/Downloads/MP_data/MP_codes/MP')\n",
    "import time\n",
    "import pandas as pd\n",
    "import numpy as np\n",
    "from Data.data import Data\n",
    "from edbn.Utils.LogFile import LogFile\n",
    "import edbn.Predictions.setting as setting\n",
    "from edbn import Methods\n",
    "import edbn.Methods.method as method\n",
    "from edbn.Methods.SDL import sdl"
   ]
  },
  {
   "attachments": {},
   "cell_type": "markdown",
   "metadata": {},
   "source": [
    "## old way"
   ]
  },
  {
   "cell_type": "code",
   "execution_count": 3,
   "metadata": {},
   "outputs": [
    {
     "name": "stderr",
     "output_type": "stream",
     "text": [
      "/Users/meruozhu/opt/anaconda3/envs/pmGrad/lib/python3.7/site-packages/IPython/core/interactiveshell.py:3457: DtypeWarning: Columns (8,12,15,20,21,22,23,25,26,30,32,33,35,37,38,39,41,42,43,44,45,46,47,48,49,51,52,53,54,55,58,61,62,63,64,65,66,67,68,73,74,77,80,81,82,83,86,87,88,89,90,91,92,93,94,95,96,97,98,99,100,101,102,103,104,105,112,113,114,115,116,117,118,119,120,121,122,123,124,125,126,127,128,129,130,131,132,133,134,135,136,137,138,139,140,141,142,143,144,145,146,147,148,149,150,151,152,153,154,155,156,157,158,159,160,161,167,168,169,170,171,172) have mixed types.Specify dtype option on import or set low_memory=False.\n",
      "  exec(code_obj, self.user_global_ns, self.user_ns)\n"
     ]
    }
   ],
   "source": [
    "df_orig = pd.read_csv('/Users/meruozhu/Downloads/MP_data/MP_codes/MP/Data/BPI_Challenge_2020/PermitLog.csv')"
   ]
  },
  {
   "cell_type": "code",
   "execution_count": 73,
   "metadata": {},
   "outputs": [
    {
     "data": {
      "text/plain": [
       "Index(['id', 'org:resource', 'event', 'completeTime', 'role',\n",
       "       'case:OrganizationalEntity', 'case:ProjectNumber', 'case:TaskNumber',\n",
       "       'case:dec_id_0', 'case:ActivityNumber',\n",
       "       ...\n",
       "       'case:Cost Type_10', 'case:Cost Type_11', 'case:Cost Type_12',\n",
       "       'case:Task_5', 'case:Task_4', 'case:Task_9', 'case:Task_8',\n",
       "       'case:Task_7', 'case:Task_6', 'year'],\n",
       "      dtype='object', length=174)"
      ]
     },
     "execution_count": 73,
     "metadata": {},
     "output_type": "execute_result"
    }
   ],
   "source": [
    "df_orig.columns"
   ]
  },
  {
   "cell_type": "code",
   "execution_count": 74,
   "metadata": {},
   "outputs": [],
   "source": [
    "df=df_orig"
   ]
  },
  {
   "cell_type": "code",
   "execution_count": 6,
   "metadata": {},
   "outputs": [],
   "source": [
    "df['completeTime']=pd.to_datetime(df['completeTime'])"
   ]
  },
  {
   "cell_type": "code",
   "execution_count": 7,
   "metadata": {},
   "outputs": [],
   "source": [
    "datetime_obj = pd.to_datetime(df['completeTime'], \"%Y-%m-%d %H:%M:%S+00:00\")\n",
    "\n",
    "# Extract the year\n",
    "df['year'] = datetime_obj.dt.year"
   ]
  },
  {
   "cell_type": "code",
   "execution_count": 15,
   "metadata": {},
   "outputs": [
    {
     "data": {
      "text/plain": [
       "Int64Index([  112,   113,   114,   115,   116,   148,   149,   600,   601,\n",
       "              639,\n",
       "            ...\n",
       "            86552, 86553, 86558, 86559, 86563, 86564, 86569, 86570, 86575,\n",
       "            86576],\n",
       "           dtype='int64', length=71179)"
      ]
     },
     "execution_count": 15,
     "metadata": {},
     "output_type": "execute_result"
    }
   ],
   "source": [
    "df.loc[df['year'] == 2018].index"
   ]
  },
  {
   "attachments": {},
   "cell_type": "markdown",
   "metadata": {},
   "source": [
    "## processed logfile"
   ]
  },
  {
   "cell_type": "code",
   "execution_count": 7,
   "metadata": {},
   "outputs": [
    {
     "name": "stdout",
     "output_type": "stream",
     "text": [
      "Num events is 18246\n"
     ]
    }
   ],
   "source": [
    "file = '/Users/meruozhu/Downloads/MP_data/MP_codes/MP/Data/BPI_Challenge_2020/PrepaidTravelCost_new.csv'\n",
    "data = pd.read_csv(file, low_memory=False)\n",
    "timeformat = \"%Y-%m-%d %H:%M:%S\"\n",
    "numEvents = data.shape[0]\n",
    "print(\"Num events is {}\".format(numEvents))\n",
    "\n",
    "dataName = 'Helpdesk'\n",
    "log = LogFile(filename=file, delim=\",\", header=0, rows=None, time_attr=\"completeTime\", trace_attr=\"case\",\n",
    "                    activity_attr='event', convert=False)\n",
    "d = Data(dataName,\n",
    "            LogFile(filename=file, delim=\",\", header=0, rows=None, time_attr=\"completeTime\", trace_attr=\"case\",\n",
    "                    activity_attr='event', convert=False))\n",
    "d.logfile.keep_attributes(['event', 'role', 'completeTime'])"
   ]
  },
  {
   "cell_type": "code",
   "execution_count": 16,
   "metadata": {},
   "outputs": [
    {
     "name": "stdout",
     "output_type": "stream",
     "text": [
      "PREPARE\n",
      "CONVERT\n",
      "PREPROCESSING: Converting event\n",
      "PREPROCESSING: Converting role\n",
      "PREPROCESSING: Converting case\n",
      "K-CONTEXT\n",
      "Create k-context: 10\n",
      "SPLIT TRAIN-TEST\n",
      "Train: 0\n",
      "Test: 18246\n",
      "data prepared done\n",
      "Test Context Data\n",
      "0        2017-01-09 13:48:43+00:00\n",
      "1        2017-01-09 13:48:43+00:00\n",
      "2        2017-01-09 13:48:55+00:00\n",
      "3        2017-01-09 13:48:55+00:00\n",
      "4        2017-01-10 10:19:16+00:00\n",
      "                   ...            \n",
      "18241    2019-01-17 16:31:44+00:00\n",
      "18242    2019-01-25 09:15:02+00:00\n",
      "18243    2019-01-28 16:31:29+00:00\n",
      "18244    2019-02-04 16:31:26+00:00\n",
      "18245    2019-02-21 10:11:10+00:00\n",
      "Name: completeTime, Length: 18246, dtype: object\n",
      "The time format is: %Y-%m-%d %H:%M:%S%z\n",
      "timeformat %Y-%m-%d %H:%M:%S%z\n"
     ]
    }
   ],
   "source": [
    "m = Methods.get_prediction_method(\"SDL\")\n",
    "s = setting.STANDARD\n",
    "trainPerc = 0\n",
    "s.train_percentage = trainPerc * 100\n",
    "# # #\n",
    "d.prepare(s)\n",
    "print('data prepared done')\n",
    "\n",
    "start_time = time.time()\n",
    "print(\"Test Context Data\")\n",
    "#print(d.test_orig.contextdata)\n",
    "# basic_model = m.train(d.train,{\"epochs\": 0, \"early_stop\": 10})\n",
    "\n",
    "connect_symbol=\"-\"\n",
    "if '/' in d.logfile.get_data()['completeTime'][0]:\n",
    "    connect_symbol='/'\n",
    "formats = [f\"%Y{connect_symbol}%m{connect_symbol}%d %H:%M:%S%z\", f'%Y{connect_symbol}%m{connect_symbol}%d %H:%M:%S',f'%Y{connect_symbol}%m{connect_symbol}%d %H:%M:%S.%f']\n",
    "\n",
    "for timeformat in formats:\n",
    "    try:\n",
    "        pd.to_datetime(d.logfile.get_data()['completeTime'], format=timeformat,exact=True)\n",
    "        print(d.logfile.get_data()['completeTime'])\n",
    "        print(\"The time format is:\", timeformat)\n",
    "        break\n",
    "    except ValueError:\n",
    "        continue\n",
    "print('timeformat',timeformat)\n",
    "#d.add_data_to_test_orig([20,50],timeformat)"
   ]
  },
  {
   "cell_type": "code",
   "execution_count": 13,
   "metadata": {},
   "outputs": [],
   "source": [
    "# d.add_data_to_test_orig([20,50],timeformat)"
   ]
  },
  {
   "cell_type": "code",
   "execution_count": 17,
   "metadata": {},
   "outputs": [
    {
     "data": {
      "text/html": [
       "<div>\n",
       "<style scoped>\n",
       "    .dataframe tbody tr th:only-of-type {\n",
       "        vertical-align: middle;\n",
       "    }\n",
       "\n",
       "    .dataframe tbody tr th {\n",
       "        vertical-align: top;\n",
       "    }\n",
       "\n",
       "    .dataframe thead th {\n",
       "        text-align: right;\n",
       "    }\n",
       "</style>\n",
       "<table border=\"1\" class=\"dataframe\">\n",
       "  <thead>\n",
       "    <tr style=\"text-align: right;\">\n",
       "      <th></th>\n",
       "      <th>index</th>\n",
       "      <th>event_Prev9</th>\n",
       "      <th>role_Prev9</th>\n",
       "      <th>completeTime_Prev9</th>\n",
       "      <th>case_Prev9</th>\n",
       "      <th>event_Prev8</th>\n",
       "      <th>role_Prev8</th>\n",
       "      <th>completeTime_Prev8</th>\n",
       "      <th>case_Prev8</th>\n",
       "      <th>event_Prev7</th>\n",
       "      <th>...</th>\n",
       "      <th>completeTime_Prev1</th>\n",
       "      <th>case_Prev1</th>\n",
       "      <th>event_Prev0</th>\n",
       "      <th>role_Prev0</th>\n",
       "      <th>completeTime_Prev0</th>\n",
       "      <th>case_Prev0</th>\n",
       "      <th>event</th>\n",
       "      <th>role</th>\n",
       "      <th>completeTime</th>\n",
       "      <th>case</th>\n",
       "    </tr>\n",
       "  </thead>\n",
       "  <tbody>\n",
       "    <tr>\n",
       "      <th>0</th>\n",
       "      <td>15436</td>\n",
       "      <td>0</td>\n",
       "      <td>0</td>\n",
       "      <td>0</td>\n",
       "      <td>1756</td>\n",
       "      <td>0</td>\n",
       "      <td>0</td>\n",
       "      <td>0</td>\n",
       "      <td>1756</td>\n",
       "      <td>0</td>\n",
       "      <td>...</td>\n",
       "      <td>0</td>\n",
       "      <td>1756</td>\n",
       "      <td>0</td>\n",
       "      <td>0</td>\n",
       "      <td>0</td>\n",
       "      <td>1756</td>\n",
       "      <td>14</td>\n",
       "      <td>4</td>\n",
       "      <td>2017-01-09 13:48:43+00:00</td>\n",
       "      <td>1756</td>\n",
       "    </tr>\n",
       "    <tr>\n",
       "      <th>1</th>\n",
       "      <td>15442</td>\n",
       "      <td>0</td>\n",
       "      <td>0</td>\n",
       "      <td>0</td>\n",
       "      <td>1757</td>\n",
       "      <td>0</td>\n",
       "      <td>0</td>\n",
       "      <td>0</td>\n",
       "      <td>1757</td>\n",
       "      <td>0</td>\n",
       "      <td>...</td>\n",
       "      <td>0</td>\n",
       "      <td>1757</td>\n",
       "      <td>0</td>\n",
       "      <td>0</td>\n",
       "      <td>0</td>\n",
       "      <td>1757</td>\n",
       "      <td>14</td>\n",
       "      <td>4</td>\n",
       "      <td>2017-01-09 13:48:43+00:00</td>\n",
       "      <td>1757</td>\n",
       "    </tr>\n",
       "    <tr>\n",
       "      <th>2</th>\n",
       "      <td>15443</td>\n",
       "      <td>0</td>\n",
       "      <td>0</td>\n",
       "      <td>0</td>\n",
       "      <td>1757</td>\n",
       "      <td>0</td>\n",
       "      <td>0</td>\n",
       "      <td>0</td>\n",
       "      <td>1757</td>\n",
       "      <td>0</td>\n",
       "      <td>...</td>\n",
       "      <td>0</td>\n",
       "      <td>1757</td>\n",
       "      <td>14</td>\n",
       "      <td>4</td>\n",
       "      <td>2017-01-09 13:48:43+00:00</td>\n",
       "      <td>1757</td>\n",
       "      <td>7</td>\n",
       "      <td>7</td>\n",
       "      <td>2017-01-09 13:48:55+00:00</td>\n",
       "      <td>1757</td>\n",
       "    </tr>\n",
       "    <tr>\n",
       "      <th>3</th>\n",
       "      <td>15437</td>\n",
       "      <td>0</td>\n",
       "      <td>0</td>\n",
       "      <td>0</td>\n",
       "      <td>1756</td>\n",
       "      <td>0</td>\n",
       "      <td>0</td>\n",
       "      <td>0</td>\n",
       "      <td>1756</td>\n",
       "      <td>0</td>\n",
       "      <td>...</td>\n",
       "      <td>0</td>\n",
       "      <td>1756</td>\n",
       "      <td>14</td>\n",
       "      <td>4</td>\n",
       "      <td>2017-01-09 13:48:43+00:00</td>\n",
       "      <td>1756</td>\n",
       "      <td>7</td>\n",
       "      <td>7</td>\n",
       "      <td>2017-01-09 13:48:55+00:00</td>\n",
       "      <td>1756</td>\n",
       "    </tr>\n",
       "    <tr>\n",
       "      <th>4</th>\n",
       "      <td>15989</td>\n",
       "      <td>0</td>\n",
       "      <td>0</td>\n",
       "      <td>0</td>\n",
       "      <td>1823</td>\n",
       "      <td>0</td>\n",
       "      <td>0</td>\n",
       "      <td>0</td>\n",
       "      <td>1823</td>\n",
       "      <td>0</td>\n",
       "      <td>...</td>\n",
       "      <td>0</td>\n",
       "      <td>1823</td>\n",
       "      <td>0</td>\n",
       "      <td>0</td>\n",
       "      <td>0</td>\n",
       "      <td>1823</td>\n",
       "      <td>14</td>\n",
       "      <td>4</td>\n",
       "      <td>2017-01-10 10:19:16+00:00</td>\n",
       "      <td>1823</td>\n",
       "    </tr>\n",
       "  </tbody>\n",
       "</table>\n",
       "<p>5 rows × 45 columns</p>\n",
       "</div>"
      ],
      "text/plain": [
       "   index  event_Prev9  role_Prev9 completeTime_Prev9  case_Prev9  event_Prev8  \\\n",
       "0  15436            0           0                  0        1756            0   \n",
       "1  15442            0           0                  0        1757            0   \n",
       "2  15443            0           0                  0        1757            0   \n",
       "3  15437            0           0                  0        1756            0   \n",
       "4  15989            0           0                  0        1823            0   \n",
       "\n",
       "   role_Prev8 completeTime_Prev8  case_Prev8  event_Prev7  ...  \\\n",
       "0           0                  0        1756            0  ...   \n",
       "1           0                  0        1757            0  ...   \n",
       "2           0                  0        1757            0  ...   \n",
       "3           0                  0        1756            0  ...   \n",
       "4           0                  0        1823            0  ...   \n",
       "\n",
       "   completeTime_Prev1 case_Prev1  event_Prev0  role_Prev0  \\\n",
       "0                   0       1756            0           0   \n",
       "1                   0       1757            0           0   \n",
       "2                   0       1757           14           4   \n",
       "3                   0       1756           14           4   \n",
       "4                   0       1823            0           0   \n",
       "\n",
       "          completeTime_Prev0 case_Prev0  event  role  \\\n",
       "0                          0       1756     14     4   \n",
       "1                          0       1757     14     4   \n",
       "2  2017-01-09 13:48:43+00:00       1757      7     7   \n",
       "3  2017-01-09 13:48:43+00:00       1756      7     7   \n",
       "4                          0       1823     14     4   \n",
       "\n",
       "                completeTime  case  \n",
       "0  2017-01-09 13:48:43+00:00  1756  \n",
       "1  2017-01-09 13:48:43+00:00  1757  \n",
       "2  2017-01-09 13:48:55+00:00  1757  \n",
       "3  2017-01-09 13:48:55+00:00  1756  \n",
       "4  2017-01-10 10:19:16+00:00  1823  \n",
       "\n",
       "[5 rows x 45 columns]"
      ]
     },
     "execution_count": 17,
     "metadata": {},
     "output_type": "execute_result"
    }
   ],
   "source": [
    "df = d.logfile.get_data()\n",
    "df.head()"
   ]
  },
  {
   "cell_type": "code",
   "execution_count": 18,
   "metadata": {},
   "outputs": [
    {
     "name": "stdout",
     "output_type": "stream",
     "text": [
      "first_occurrence_index 2367 Last occurrence index: 4473\n"
     ]
    }
   ],
   "source": [
    "# Convert the series to a datetime type\n",
    "data = pd.to_datetime(df['completeTime'])\n",
    "\n",
    "# Remove timezone information\n",
    "data = data.dt.tz_localize(None)\n",
    "\n",
    "# Filter the series based on the desired date range\n",
    "start_date = pd.to_datetime(\"2017-12-24\").tz_localize(None)\n",
    "end_date = pd.to_datetime(\"2018-02-14\").tz_localize(None)\n",
    "filtered_data = data[(data >= start_date) & (data <= end_date)]\n",
    "\n",
    "# Find the index of the last occurrence in the filtered data\n",
    "first_occurrence_index = filtered_data.idxmin()\n",
    "last_occurrence_index = filtered_data.idxmax()\n",
    "\n",
    "print(\"first_occurrence_index\", first_occurrence_index,\"Last occurrence index:\", last_occurrence_index)"
   ]
  },
  {
   "cell_type": "code",
   "execution_count": 18,
   "metadata": {},
   "outputs": [
    {
     "data": {
      "text/plain": [
       "9878    2017-12-26 04:15:05\n",
       "9879    2017-12-28 04:15:00\n",
       "9880    2017-12-28 04:15:00\n",
       "9881    2018-01-02 08:18:55\n",
       "9882    2018-01-02 08:25:21\n",
       "                ...        \n",
       "14497   2018-02-13 19:46:12\n",
       "14498   2018-02-13 19:46:19\n",
       "14499   2018-02-13 21:47:52\n",
       "14500   2018-02-13 22:43:51\n",
       "14501   2018-02-13 22:50:48\n",
       "Name: completeTime, Length: 4624, dtype: datetime64[ns]"
      ]
     },
     "execution_count": 18,
     "metadata": {},
     "output_type": "execute_result"
    }
   ],
   "source": [
    "filtered_data"
   ]
  },
  {
   "cell_type": "code",
   "execution_count": 4,
   "metadata": {},
   "outputs": [
    {
     "data": {
      "text/plain": [
       "0.1750270212803657"
      ]
     },
     "execution_count": 4,
     "metadata": {},
     "output_type": "execute_result"
    }
   ],
   "source": [
    "9878/56437"
   ]
  },
  {
   "cell_type": "code",
   "execution_count": 103,
   "metadata": {},
   "outputs": [
    {
     "name": "stdout",
     "output_type": "stream",
     "text": [
      "15923 15886\n"
     ]
    }
   ],
   "source": [
    "print(first_values_new['index'].min(),first_values_old['index'].max())"
   ]
  },
  {
   "attachments": {},
   "cell_type": "markdown",
   "metadata": {},
   "source": [
    "## old way"
   ]
  },
  {
   "cell_type": "code",
   "execution_count": 43,
   "metadata": {},
   "outputs": [
    {
     "data": {
      "text/plain": [
       "<pandas.core.groupby.generic.DataFrameGroupBy object at 0x7fdcf2a0c650>"
      ]
     },
     "execution_count": 43,
     "metadata": {},
     "output_type": "execute_result"
    }
   ],
   "source": [
    "df.reset_index().groupby('case')[['index','year']]"
   ]
  },
  {
   "cell_type": "code",
   "execution_count": 34,
   "metadata": {},
   "outputs": [],
   "source": [
    "# Group the DataFrame by 'case' and sort the rows within each group by 'completeTime'\n",
    "#df_sorted = df.groupby('case').apply(lambda x: x.sort_values('completeTime')).reset_index(drop=True)\n",
    "\n",
    "# Find the first value of 'completeTime' in each group\n",
    "first_values = df.reset_index().groupby('case')[['index','year']].first()"
   ]
  },
  {
   "cell_type": "code",
   "execution_count": 40,
   "metadata": {},
   "outputs": [],
   "source": [
    "first_values_new = first_values[first_values['year']==2018]"
   ]
  },
  {
   "cell_type": "code",
   "execution_count": 42,
   "metadata": {},
   "outputs": [
    {
     "data": {
      "text/plain": [
       "15923"
      ]
     },
     "execution_count": 42,
     "metadata": {},
     "output_type": "execute_result"
    }
   ],
   "source": [
    "first_values_new['index'].min()"
   ]
  },
  {
   "cell_type": "code",
   "execution_count": 35,
   "metadata": {},
   "outputs": [
    {
     "data": {
      "text/html": [
       "<div>\n",
       "<style scoped>\n",
       "    .dataframe tbody tr th:only-of-type {\n",
       "        vertical-align: middle;\n",
       "    }\n",
       "\n",
       "    .dataframe tbody tr th {\n",
       "        vertical-align: top;\n",
       "    }\n",
       "\n",
       "    .dataframe thead th {\n",
       "        text-align: right;\n",
       "    }\n",
       "</style>\n",
       "<table border=\"1\" class=\"dataframe\">\n",
       "  <thead>\n",
       "    <tr style=\"text-align: right;\">\n",
       "      <th></th>\n",
       "      <th>index</th>\n",
       "    </tr>\n",
       "    <tr>\n",
       "      <th>year</th>\n",
       "      <th></th>\n",
       "    </tr>\n",
       "  </thead>\n",
       "  <tbody>\n",
       "    <tr>\n",
       "      <th>2016</th>\n",
       "      <td>0</td>\n",
       "    </tr>\n",
       "    <tr>\n",
       "      <th>2017</th>\n",
       "      <td>117</td>\n",
       "    </tr>\n",
       "    <tr>\n",
       "      <th>2018</th>\n",
       "      <td>15923</td>\n",
       "    </tr>\n",
       "  </tbody>\n",
       "</table>\n",
       "</div>"
      ],
      "text/plain": [
       "      index\n",
       "year       \n",
       "2016      0\n",
       "2017    117\n",
       "2018  15923"
      ]
     },
     "execution_count": 35,
     "metadata": {},
     "output_type": "execute_result"
    }
   ],
   "source": [
    "first_values.groupby('year').min()"
   ]
  },
  {
   "cell_type": "code",
   "execution_count": 22,
   "metadata": {},
   "outputs": [],
   "source": [
    "last_values = df.reset_index().groupby('case')[['index','year']].last()"
   ]
  },
  {
   "cell_type": "code",
   "execution_count": 23,
   "metadata": {},
   "outputs": [
    {
     "data": {
      "text/html": [
       "<div>\n",
       "<style scoped>\n",
       "    .dataframe tbody tr th:only-of-type {\n",
       "        vertical-align: middle;\n",
       "    }\n",
       "\n",
       "    .dataframe tbody tr th {\n",
       "        vertical-align: top;\n",
       "    }\n",
       "\n",
       "    .dataframe thead th {\n",
       "        text-align: right;\n",
       "    }\n",
       "</style>\n",
       "<table border=\"1\" class=\"dataframe\">\n",
       "  <thead>\n",
       "    <tr style=\"text-align: right;\">\n",
       "      <th></th>\n",
       "      <th>index</th>\n",
       "    </tr>\n",
       "    <tr>\n",
       "      <th>year</th>\n",
       "      <th></th>\n",
       "    </tr>\n",
       "  </thead>\n",
       "  <tbody>\n",
       "    <tr>\n",
       "      <th>2017</th>\n",
       "      <td>15165</td>\n",
       "    </tr>\n",
       "    <tr>\n",
       "      <th>2018</th>\n",
       "      <td>86271</td>\n",
       "    </tr>\n",
       "    <tr>\n",
       "      <th>2019</th>\n",
       "      <td>86580</td>\n",
       "    </tr>\n",
       "    <tr>\n",
       "      <th>2020</th>\n",
       "      <td>44922</td>\n",
       "    </tr>\n",
       "    <tr>\n",
       "      <th>2021</th>\n",
       "      <td>52193</td>\n",
       "    </tr>\n",
       "  </tbody>\n",
       "</table>\n",
       "</div>"
      ],
      "text/plain": [
       "      index\n",
       "year       \n",
       "2017  15165\n",
       "2018  86271\n",
       "2019  86580\n",
       "2020  44922\n",
       "2021  52193"
      ]
     },
     "execution_count": 23,
     "metadata": {},
     "output_type": "execute_result"
    }
   ],
   "source": [
    "last_values.groupby('year').max()"
   ]
  },
  {
   "cell_type": "code",
   "execution_count": 26,
   "metadata": {},
   "outputs": [],
   "source": [
    "# Assuming your dataframe is named \"df\"\n",
    "last_event_index = df[df['year'] == 2017].index[-1]"
   ]
  },
  {
   "cell_type": "code",
   "execution_count": 27,
   "metadata": {},
   "outputs": [
    {
     "data": {
      "text/plain": [
       "15886"
      ]
     },
     "execution_count": 27,
     "metadata": {},
     "output_type": "execute_result"
    }
   ],
   "source": [
    "last_event_index"
   ]
  },
  {
   "cell_type": "code",
   "execution_count": 37,
   "metadata": {},
   "outputs": [],
   "source": [
    "first_values_old = first_values[first_values['year'] == 2017]"
   ]
  },
  {
   "cell_type": "code",
   "execution_count": 39,
   "metadata": {},
   "outputs": [
    {
     "data": {
      "text/plain": [
       "15886"
      ]
     },
     "execution_count": 39,
     "metadata": {},
     "output_type": "execute_result"
    }
   ],
   "source": [
    "first_values_old['index'].max()"
   ]
  },
  {
   "cell_type": "code",
   "execution_count": 72,
   "metadata": {},
   "outputs": [
    {
     "data": {
      "text/html": [
       "<div>\n",
       "<style scoped>\n",
       "    .dataframe tbody tr th:only-of-type {\n",
       "        vertical-align: middle;\n",
       "    }\n",
       "\n",
       "    .dataframe tbody tr th {\n",
       "        vertical-align: top;\n",
       "    }\n",
       "\n",
       "    .dataframe thead th {\n",
       "        text-align: right;\n",
       "    }\n",
       "</style>\n",
       "<table border=\"1\" class=\"dataframe\">\n",
       "  <thead>\n",
       "    <tr style=\"text-align: right;\">\n",
       "      <th></th>\n",
       "      <th>index</th>\n",
       "    </tr>\n",
       "    <tr>\n",
       "      <th>year</th>\n",
       "      <th></th>\n",
       "    </tr>\n",
       "  </thead>\n",
       "  <tbody>\n",
       "    <tr>\n",
       "      <th>2017</th>\n",
       "      <td>14873</td>\n",
       "    </tr>\n",
       "  </tbody>\n",
       "</table>\n",
       "</div>"
      ],
      "text/plain": [
       "      index\n",
       "year       \n",
       "2017  14873"
      ]
     },
     "execution_count": 72,
     "metadata": {},
     "output_type": "execute_result"
    }
   ],
   "source": [
    "# Filter the dataframe to cases starting in 2017\n",
    "filtered_df = df[df['year'] == 2017]\n",
    "\n",
    "\n",
    "last_values = filtered_df.reset_index().groupby('case')[['index','year']].last()\n",
    "\n",
    "last_values.groupby('year').max()"
   ]
  },
  {
   "cell_type": "code",
   "execution_count": 75,
   "metadata": {},
   "outputs": [
    {
     "data": {
      "text/plain": [
       "array([2018, 2017, 2016])"
      ]
     },
     "execution_count": 75,
     "metadata": {},
     "output_type": "execute_result"
    }
   ],
   "source": [
    "first_values.unique()"
   ]
  }
 ],
 "metadata": {
  "kernelspec": {
   "display_name": "pmGrad",
   "language": "python",
   "name": "python3"
  },
  "language_info": {
   "codemirror_mode": {
    "name": "ipython",
    "version": 3
   },
   "file_extension": ".py",
   "mimetype": "text/x-python",
   "name": "python",
   "nbconvert_exporter": "python",
   "pygments_lexer": "ipython3",
   "version": "3.7.7"
  },
  "orig_nbformat": 4
 },
 "nbformat": 4,
 "nbformat_minor": 2
}
