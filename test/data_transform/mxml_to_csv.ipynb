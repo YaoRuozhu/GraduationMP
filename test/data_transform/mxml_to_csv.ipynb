{
 "cells": [
  {
   "cell_type": "code",
   "execution_count": 1,
   "metadata": {},
   "outputs": [
    {
     "name": "stderr",
     "output_type": "stream",
     "text": [
      "/Users/meruozhu/opt/anaconda3/envs/pmGrad/lib/python3.7/site-packages/tqdm/auto.py:22: TqdmWarning: IProgress not found. Please update jupyter and ipywidgets. See https://ipywidgets.readthedocs.io/en/stable/user_install.html\n",
      "  from .autonotebook import tqdm as notebook_tqdm\n",
      "parsing log, completed traces :: 100%|██████████| 10000/10000 [00:16<00:00, 620.87it/s]\n"
     ]
    }
   ],
   "source": [
    "import os\n",
    "from pm4py.objects.log.importer.xes import importer as xes_importer\n",
    "from pm4py.objects.conversion.log import converter as log_converter\n",
    "from pm4py.util import constants\n",
    "\n",
    "# Directory containing the .xes files\n",
    "directory = '/Users/meruozhu/Downloads/MP_data/MP_codes/MP/Data/synthetic_logs/IOR'\n",
    "\n",
    "for filename in os.listdir(directory):\n",
    "    if filename.endswith('.xes'):\n",
    "        # Import the log\n",
    "        log = xes_importer.apply(os.path.join(directory, filename))\n",
    "\n",
    "        # Convert the log to a DataFrame\n",
    "        df = log_converter.apply(log, variant=log_converter.Variants.TO_DATA_FRAME)\n",
    "\n",
    "        # Export the DataFrame to CSV\n",
    "        df.to_csv(os.path.join(directory, filename.replace('.xes', '.csv')), index=False)\n"
   ]
  },
  {
   "attachments": {},
   "cell_type": "markdown",
   "metadata": {},
   "source": [
    "## what is the start time and complete time in direct from ProM"
   ]
  },
  {
   "cell_type": "code",
   "execution_count": 6,
   "metadata": {},
   "outputs": [],
   "source": [
    "import pandas as pd\n",
    "import numpy as np"
   ]
  },
  {
   "cell_type": "code",
   "execution_count": 7,
   "metadata": {},
   "outputs": [],
   "source": [
    "df_direct = pd.read_csv('/Users/meruozhu/Downloads/MP_data/MP_codes/MP/Data/synthetic_logs/IOR/IOR10k_direct_ProM.csv')"
   ]
  },
  {
   "cell_type": "code",
   "execution_count": 8,
   "metadata": {},
   "outputs": [
    {
     "data": {
      "text/html": [
       "<div>\n",
       "<style scoped>\n",
       "    .dataframe tbody tr th:only-of-type {\n",
       "        vertical-align: middle;\n",
       "    }\n",
       "\n",
       "    .dataframe tbody tr th {\n",
       "        vertical-align: top;\n",
       "    }\n",
       "\n",
       "    .dataframe thead th {\n",
       "        text-align: right;\n",
       "    }\n",
       "</style>\n",
       "<table border=\"1\" class=\"dataframe\">\n",
       "  <thead>\n",
       "    <tr style=\"text-align: right;\">\n",
       "      <th></th>\n",
       "      <th>case</th>\n",
       "      <th>event</th>\n",
       "      <th>startTime</th>\n",
       "      <th>completeTime</th>\n",
       "      <th>LogType</th>\n",
       "      <th>org:resource</th>\n",
       "    </tr>\n",
       "  </thead>\n",
       "  <tbody>\n",
       "    <tr>\n",
       "      <th>0</th>\n",
       "      <td>b1_503</td>\n",
       "      <td>Loan  application received</td>\n",
       "      <td>2004/03/16 13:30:00.000</td>\n",
       "      <td>2004/03/16 13:30:00.000</td>\n",
       "      <td>MXML.EnactmentLog</td>\n",
       "      <td>NaN</td>\n",
       "    </tr>\n",
       "    <tr>\n",
       "      <th>1</th>\n",
       "      <td>b1_503</td>\n",
       "      <td>Check  application  form completeness</td>\n",
       "      <td>2004/03/16 13:38:33.151</td>\n",
       "      <td>2004/03/16 13:38:33.151</td>\n",
       "      <td>MXML.EnactmentLog</td>\n",
       "      <td>NaN</td>\n",
       "    </tr>\n",
       "    <tr>\n",
       "      <th>2</th>\n",
       "      <td>b1_503</td>\n",
       "      <td>Appraise property</td>\n",
       "      <td>2004/03/16 13:48:29.200</td>\n",
       "      <td>2004/03/16 13:48:29.200</td>\n",
       "      <td>MXML.EnactmentLog</td>\n",
       "      <td>NaN</td>\n",
       "    </tr>\n",
       "    <tr>\n",
       "      <th>3</th>\n",
       "      <td>b1_503</td>\n",
       "      <td>Check credit history</td>\n",
       "      <td>2004/03/16 13:53:00.728</td>\n",
       "      <td>2004/03/16 13:53:00.728</td>\n",
       "      <td>MXML.EnactmentLog</td>\n",
       "      <td>NaN</td>\n",
       "    </tr>\n",
       "    <tr>\n",
       "      <th>4</th>\n",
       "      <td>b1_503</td>\n",
       "      <td>Assess loan risk</td>\n",
       "      <td>2004/03/16 15:02:18.419</td>\n",
       "      <td>2004/03/16 15:02:18.419</td>\n",
       "      <td>MXML.EnactmentLog</td>\n",
       "      <td>NaN</td>\n",
       "    </tr>\n",
       "    <tr>\n",
       "      <th>...</th>\n",
       "      <td>...</td>\n",
       "      <td>...</td>\n",
       "      <td>...</td>\n",
       "      <td>...</td>\n",
       "      <td>...</td>\n",
       "      <td>...</td>\n",
       "    </tr>\n",
       "    <tr>\n",
       "      <th>104737</th>\n",
       "      <td>ior5_588</td>\n",
       "      <td>Check if home insurance quote is requested</td>\n",
       "      <td>2013/04/27 13:01:05.566</td>\n",
       "      <td>2013/04/27 13:01:05.566</td>\n",
       "      <td>MXML.EnactmentLog</td>\n",
       "      <td>NaN</td>\n",
       "    </tr>\n",
       "    <tr>\n",
       "      <th>104738</th>\n",
       "      <td>ior5_588</td>\n",
       "      <td>Send acceptance pack</td>\n",
       "      <td>2013/04/27 13:11:25.834</td>\n",
       "      <td>2013/04/27 13:11:25.834</td>\n",
       "      <td>MXML.EnactmentLog</td>\n",
       "      <td>NaN</td>\n",
       "    </tr>\n",
       "    <tr>\n",
       "      <th>104739</th>\n",
       "      <td>ior5_588</td>\n",
       "      <td>Verify repayment agreement</td>\n",
       "      <td>2013/04/27 13:18:00.732</td>\n",
       "      <td>2013/04/27 13:18:00.732</td>\n",
       "      <td>MXML.EnactmentLog</td>\n",
       "      <td>NaN</td>\n",
       "    </tr>\n",
       "    <tr>\n",
       "      <th>104740</th>\n",
       "      <td>ior5_588</td>\n",
       "      <td>Cancel application</td>\n",
       "      <td>2013/04/27 13:58:40.577</td>\n",
       "      <td>2013/04/27 13:58:40.577</td>\n",
       "      <td>MXML.EnactmentLog</td>\n",
       "      <td>NaN</td>\n",
       "    </tr>\n",
       "    <tr>\n",
       "      <th>104741</th>\n",
       "      <td>ior5_588</td>\n",
       "      <td>Loan  application canceled</td>\n",
       "      <td>2013/04/27 13:58:40.577</td>\n",
       "      <td>2013/04/27 13:58:40.577</td>\n",
       "      <td>MXML.EnactmentLog</td>\n",
       "      <td>NaN</td>\n",
       "    </tr>\n",
       "  </tbody>\n",
       "</table>\n",
       "<p>104742 rows × 6 columns</p>\n",
       "</div>"
      ],
      "text/plain": [
       "            case                                       event  \\\n",
       "0         b1_503                  Loan  application received   \n",
       "1         b1_503       Check  application  form completeness   \n",
       "2         b1_503                           Appraise property   \n",
       "3         b1_503                        Check credit history   \n",
       "4         b1_503                            Assess loan risk   \n",
       "...          ...                                         ...   \n",
       "104737  ior5_588  Check if home insurance quote is requested   \n",
       "104738  ior5_588                        Send acceptance pack   \n",
       "104739  ior5_588                  Verify repayment agreement   \n",
       "104740  ior5_588                          Cancel application   \n",
       "104741  ior5_588                  Loan  application canceled   \n",
       "\n",
       "                      startTime             completeTime            LogType  \\\n",
       "0       2004/03/16 13:30:00.000  2004/03/16 13:30:00.000  MXML.EnactmentLog   \n",
       "1       2004/03/16 13:38:33.151  2004/03/16 13:38:33.151  MXML.EnactmentLog   \n",
       "2       2004/03/16 13:48:29.200  2004/03/16 13:48:29.200  MXML.EnactmentLog   \n",
       "3       2004/03/16 13:53:00.728  2004/03/16 13:53:00.728  MXML.EnactmentLog   \n",
       "4       2004/03/16 15:02:18.419  2004/03/16 15:02:18.419  MXML.EnactmentLog   \n",
       "...                         ...                      ...                ...   \n",
       "104737  2013/04/27 13:01:05.566  2013/04/27 13:01:05.566  MXML.EnactmentLog   \n",
       "104738  2013/04/27 13:11:25.834  2013/04/27 13:11:25.834  MXML.EnactmentLog   \n",
       "104739  2013/04/27 13:18:00.732  2013/04/27 13:18:00.732  MXML.EnactmentLog   \n",
       "104740  2013/04/27 13:58:40.577  2013/04/27 13:58:40.577  MXML.EnactmentLog   \n",
       "104741  2013/04/27 13:58:40.577  2013/04/27 13:58:40.577  MXML.EnactmentLog   \n",
       "\n",
       "        org:resource  \n",
       "0                NaN  \n",
       "1                NaN  \n",
       "2                NaN  \n",
       "3                NaN  \n",
       "4                NaN  \n",
       "...              ...  \n",
       "104737           NaN  \n",
       "104738           NaN  \n",
       "104739           NaN  \n",
       "104740           NaN  \n",
       "104741           NaN  \n",
       "\n",
       "[104742 rows x 6 columns]"
      ]
     },
     "execution_count": 8,
     "metadata": {},
     "output_type": "execute_result"
    }
   ],
   "source": [
    "df_direct"
   ]
  },
  {
   "cell_type": "code",
   "execution_count": 12,
   "metadata": {},
   "outputs": [
    {
     "data": {
      "text/plain": [
       "0"
      ]
     },
     "execution_count": 12,
     "metadata": {},
     "output_type": "execute_result"
    }
   ],
   "source": [
    "np.sum(df_direct['startTime']!=df_direct['completeTime'])"
   ]
  },
  {
   "cell_type": "code",
   "execution_count": 13,
   "metadata": {},
   "outputs": [],
   "source": [
    "df = pd.read_csv('/Users/meruozhu/Downloads/MP_data/MP_codes/MP/Data/synthetic_logs/IOR/IOR10k.csv')"
   ]
  },
  {
   "cell_type": "code",
   "execution_count": 17,
   "metadata": {},
   "outputs": [
    {
     "data": {
      "text/plain": [
       "0         2004/03/16 13:30:00.000\n",
       "1         2004/03/16 13:38:33.151\n",
       "2         2004/03/16 13:48:29.200\n",
       "3         2004/03/16 13:53:00.728\n",
       "4         2004/03/16 15:02:18.419\n",
       "                   ...           \n",
       "104737    2013/04/27 13:01:05.566\n",
       "104738    2013/04/27 13:11:25.834\n",
       "104739    2013/04/27 13:18:00.732\n",
       "104740    2013/04/27 13:58:40.577\n",
       "104741    2013/04/27 13:58:40.577\n",
       "Name: startTime, Length: 104742, dtype: object"
      ]
     },
     "execution_count": 17,
     "metadata": {},
     "output_type": "execute_result"
    }
   ],
   "source": [
    "df_direct['startTime']"
   ]
  },
  {
   "cell_type": "code",
   "execution_count": 16,
   "metadata": {},
   "outputs": [
    {
     "data": {
      "text/plain": [
       "0                2004-03-16 12:30:00+00:00\n",
       "1                2004-03-16 12:30:00+00:00\n",
       "2                2004-03-16 12:30:00+00:00\n",
       "3         2004-03-16 12:38:33.151000+00:00\n",
       "4         2004-03-16 12:38:33.151000+00:00\n",
       "                        ...               \n",
       "209479    2013-04-27 11:18:00.732000+00:00\n",
       "209480    2013-04-27 11:18:00.732000+00:00\n",
       "209481    2013-04-27 11:58:40.577000+00:00\n",
       "209482    2013-04-27 11:58:40.577000+00:00\n",
       "209483    2013-04-27 11:58:40.577000+00:00\n",
       "Name: time:timestamp, Length: 209484, dtype: object"
      ]
     },
     "execution_count": 16,
     "metadata": {},
     "output_type": "execute_result"
    }
   ],
   "source": [
    "df['time:timestamp']"
   ]
  },
  {
   "cell_type": "code",
   "execution_count": null,
   "metadata": {},
   "outputs": [],
   "source": []
  }
 ],
 "metadata": {
  "kernelspec": {
   "display_name": "pmGrad",
   "language": "python",
   "name": "python3"
  },
  "language_info": {
   "codemirror_mode": {
    "name": "ipython",
    "version": 3
   },
   "file_extension": ".py",
   "mimetype": "text/x-python",
   "name": "python",
   "nbconvert_exporter": "python",
   "pygments_lexer": "ipython3",
   "version": "3.7.7"
  },
  "orig_nbformat": 4
 },
 "nbformat": 4,
 "nbformat_minor": 2
}
