{
 "cells": [
  {
   "cell_type": "code",
   "execution_count": 2,
   "metadata": {},
   "outputs": [
    {
     "name": "stdout",
     "output_type": "stream",
     "text": [
      "Zipping completed!\n"
     ]
    }
   ],
   "source": [
    "import os\n",
    "import zipfile\n",
    "import shutil\n",
    "\n",
    "# Define the source and destination directories\n",
    "source_dir = '/Users/meruozhu/Downloads/MP_data/MP_codes/MP/experiments'\n",
    "dest_dir = '/Users/meruozhu/Downloads/MP_data/old_results'\n",
    "\n",
    "# Iterate through each directory inside the 'experiments' directory\n",
    "for folder in os.listdir(source_dir):\n",
    "    # Check if the folder name matches the pattern \"experiments_...\"\n",
    "    if folder.startswith(\"experiments_\"):\n",
    "        # Construct the path to the \"results\" folder inside this directory\n",
    "        results_folder_path = os.path.join(source_dir, folder, 'results')\n",
    "        \n",
    "        # Check if this \"results\" folder exists\n",
    "        if os.path.exists(results_folder_path):\n",
    "            # Create a zip file for this \"results\" folder\n",
    "            zip_filename = os.path.join(dest_dir, folder + '.zip')\n",
    "            with zipfile.ZipFile(zip_filename, 'w') as zipf:\n",
    "                for root, _, files in os.walk(results_folder_path):\n",
    "                    for file in files:\n",
    "                        file_path = os.path.join(root, file)\n",
    "                        # Add file to the zip, but with a relative path to the \"results\" folder\n",
    "                        arcname = os.path.relpath(file_path, results_folder_path)\n",
    "                        zipf.write(file_path, arcname)\n",
    "            # After zipping, delete the original \"results\" folder\n",
    "            shutil.rmtree(results_folder_path)\n",
    "\n",
    "print(\"Zipping completed!\")"
   ]
  }
 ],
 "metadata": {
  "kernelspec": {
   "display_name": "pmGrad",
   "language": "python",
   "name": "python3"
  },
  "language_info": {
   "codemirror_mode": {
    "name": "ipython",
    "version": 3
   },
   "file_extension": ".py",
   "mimetype": "text/x-python",
   "name": "python",
   "nbconvert_exporter": "python",
   "pygments_lexer": "ipython3",
   "version": "3.7.7"
  },
  "orig_nbformat": 4
 },
 "nbformat": 4,
 "nbformat_minor": 2
}
