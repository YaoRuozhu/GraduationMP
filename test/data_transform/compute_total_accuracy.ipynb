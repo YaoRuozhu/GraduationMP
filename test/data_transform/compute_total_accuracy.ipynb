{
 "cells": [
  {
   "cell_type": "code",
   "execution_count": 1,
   "metadata": {},
   "outputs": [],
   "source": [
    "import pandas as pd\n",
    "import numpy as np\n",
    "import glob\n",
    "import json\n",
    "import os"
   ]
  },
  {
   "cell_type": "code",
   "execution_count": 2,
   "metadata": {},
   "outputs": [],
   "source": [
    "def compute_accuracy_all_data(folder_path):\n",
    "    file_path = folder_path+'/prediction_results.csv'\n",
    "    df = pd.read_csv(file_path)\n",
    "    accuracy = (df.iloc[:,0]==df.iloc[:,1]).sum()/df.shape[0]\n",
    "    # Read the JSON file\n",
    "    with open(folder_path+'/evaluation_res.json', 'r') as json_file:\n",
    "        evaluation_result = json.load(json_file)\n",
    "    print(os.path.splitext(folder_path)[0],'sample ratio',evaluation_result['ratio'], 'accuracy all data:', accuracy)\n",
    "    # Add the new key-value pair to the dictionary\n",
    "    evaluation_result['total_accuracy'] = accuracy\n",
    "\n",
    "    # Write the updated dictionary back to the JSON file\n",
    "    with open(folder_path+'/evaluation_res.json', 'w') as json_file:\n",
    "        json.dump(evaluation_result, json_file)\n",
    "    return accuracy"
   ]
  },
  {
   "cell_type": "code",
   "execution_count": 3,
   "metadata": {},
   "outputs": [
    {
     "name": "stdout",
     "output_type": "stream",
     "text": [
      "/Users/meruozhu/Downloads/MP_data/MP_codes/MP/experiments/experiments_sdl_update/results/PermitLog_rbs500_hbs100_2023-07-19_16-30-12 sample ratio 0 accuracy all data: 0.3767398843930636\n",
      "Running function for folder: PermitLog_rbs500_hbs100_2023-07-19_16-30-12\n",
      "/Users/meruozhu/Downloads/MP_data/MP_codes/MP/experiments/experiments_sdl_update/results/PermitLog_rbs500_hbs100_2023-07-19_18-47-05 sample ratio 0.5 accuracy all data: 0.37058959537572256\n",
      "Running function for folder: PermitLog_rbs500_hbs100_2023-07-19_18-47-05\n"
     ]
    }
   ],
   "source": [
    "folder1 = \"/Users/meruozhu/Downloads/MP_data/MP_codes/MP/experiments/experiments_sdl_update/results\"\n",
    "\n",
    "# Iterate through all folders in folder1\n",
    "for folder_name in os.listdir(folder1):\n",
    "    folder_path = os.path.join(folder1, folder_name)\n",
    "    if os.path.isdir(folder_path):  # Check if it's a folder\n",
    "\n",
    "        # Check if evaluation_res.json exists in the folder\n",
    "        evaluation_res_path = os.path.join(folder_path, \"evaluation_res.json\")\n",
    "        if os.path.isfile(evaluation_res_path):\n",
    "\n",
    "            # Load the evaluation_res.json file\n",
    "            with open(evaluation_res_path, \"r\") as file:\n",
    "                data = json.load(file)\n",
    "\n",
    "            # Check if the key \"ratio\" exists in the loaded JSON data\n",
    "            if \"ratio\" in data:\n",
    "                compute_accuracy_all_data(folder_path)\n",
    "\n",
    "                print(f\"Running function for folder: {folder_name}\")\n"
   ]
  },
  {
   "cell_type": "code",
   "execution_count": null,
   "metadata": {},
   "outputs": [],
   "source": []
  }
 ],
 "metadata": {
  "kernelspec": {
   "display_name": "pmGrad",
   "language": "python",
   "name": "python3"
  },
  "language_info": {
   "codemirror_mode": {
    "name": "ipython",
    "version": 3
   },
   "file_extension": ".py",
   "mimetype": "text/x-python",
   "name": "python",
   "nbconvert_exporter": "python",
   "pygments_lexer": "ipython3",
   "version": "3.7.7"
  },
  "orig_nbformat": 4
 },
 "nbformat": 4,
 "nbformat_minor": 2
}
