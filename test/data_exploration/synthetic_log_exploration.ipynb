{
 "cells": [
  {
   "cell_type": "code",
   "execution_count": 1,
   "metadata": {},
   "outputs": [],
   "source": [
    "%load_ext autoreload\n",
    "%autoreload 2"
   ]
  },
  {
   "cell_type": "code",
   "execution_count": 2,
   "metadata": {},
   "outputs": [],
   "source": [
    "import sys\n",
    "sys.path.append('/Users/meruozhu/Downloads/MP_data/MP_codes/MP')\n",
    "import time\n",
    "import json\n",
    "import pandas as pd\n",
    "import numpy as np\n",
    "import os\n",
    "import datetime\n",
    "from scipy.stats import percentileofscore\n",
    "from Data.data import Data\n",
    "from edbn.Utils.LogFile import LogFile\n",
    "import edbn.Predictions.setting as setting\n",
    "from edbn import Methods"
   ]
  },
  {
   "cell_type": "code",
   "execution_count": 3,
   "metadata": {},
   "outputs": [
    {
     "ename": "FileNotFoundError",
     "evalue": "[Errno 2] No such file or directory: '/Users/meruozhu/Downloads/MP_data/MP_codes/MP/Data/synthetic_logs/IOR/IOR10k_direct_ProM.csv'",
     "output_type": "error",
     "traceback": [
      "\u001b[0;31m---------------------------------------------------------------------------\u001b[0m",
      "\u001b[0;31mFileNotFoundError\u001b[0m                         Traceback (most recent call last)",
      "\u001b[0;32m/var/folders/m_/vqx5l_qd50xbdyfwyvj3dnf40000gn/T/ipykernel_17930/3603044175.py\u001b[0m in \u001b[0;36m<module>\u001b[0;34m\u001b[0m\n\u001b[0;32m----> 1\u001b[0;31m \u001b[0mdf\u001b[0m \u001b[0;34m=\u001b[0m \u001b[0mpd\u001b[0m\u001b[0;34m.\u001b[0m\u001b[0mread_csv\u001b[0m\u001b[0;34m(\u001b[0m\u001b[0;34m'/Users/meruozhu/Downloads/MP_data/MP_codes/MP/Data/synthetic_logs/IOR/IOR10k_direct_ProM.csv'\u001b[0m\u001b[0;34m)\u001b[0m\u001b[0;34m\u001b[0m\u001b[0;34m\u001b[0m\u001b[0m\n\u001b[0m\u001b[1;32m      2\u001b[0m \u001b[0mdf_mini\u001b[0m \u001b[0;34m=\u001b[0m \u001b[0mdf\u001b[0m\u001b[0;34m[\u001b[0m\u001b[0;34m:\u001b[0m\u001b[0;36m2000\u001b[0m\u001b[0;34m]\u001b[0m\u001b[0;34m\u001b[0m\u001b[0;34m\u001b[0m\u001b[0m\n\u001b[1;32m      3\u001b[0m \u001b[0mdf_mini\u001b[0m\u001b[0;34m.\u001b[0m\u001b[0mhead\u001b[0m\u001b[0;34m(\u001b[0m\u001b[0;34m)\u001b[0m\u001b[0;34m\u001b[0m\u001b[0;34m\u001b[0m\u001b[0m\n\u001b[1;32m      4\u001b[0m \u001b[0mdf_mini\u001b[0m\u001b[0;34m.\u001b[0m\u001b[0mto_csv\u001b[0m\u001b[0;34m(\u001b[0m\u001b[0;34m'/Users/meruozhu/Downloads/MP_data/MP_codes/MP/Data/test_dataset/IOR10k_mini.csv'\u001b[0m\u001b[0;34m)\u001b[0m\u001b[0;34m\u001b[0m\u001b[0;34m\u001b[0m\u001b[0m\n",
      "\u001b[0;32m~/opt/anaconda3/envs/pmGrad/lib/python3.7/site-packages/pandas/util/_decorators.py\u001b[0m in \u001b[0;36mwrapper\u001b[0;34m(*args, **kwargs)\u001b[0m\n\u001b[1;32m    309\u001b[0m                     \u001b[0mstacklevel\u001b[0m\u001b[0;34m=\u001b[0m\u001b[0mstacklevel\u001b[0m\u001b[0;34m,\u001b[0m\u001b[0;34m\u001b[0m\u001b[0;34m\u001b[0m\u001b[0m\n\u001b[1;32m    310\u001b[0m                 )\n\u001b[0;32m--> 311\u001b[0;31m             \u001b[0;32mreturn\u001b[0m \u001b[0mfunc\u001b[0m\u001b[0;34m(\u001b[0m\u001b[0;34m*\u001b[0m\u001b[0margs\u001b[0m\u001b[0;34m,\u001b[0m \u001b[0;34m**\u001b[0m\u001b[0mkwargs\u001b[0m\u001b[0;34m)\u001b[0m\u001b[0;34m\u001b[0m\u001b[0;34m\u001b[0m\u001b[0m\n\u001b[0m\u001b[1;32m    312\u001b[0m \u001b[0;34m\u001b[0m\u001b[0m\n\u001b[1;32m    313\u001b[0m         \u001b[0;32mreturn\u001b[0m \u001b[0mwrapper\u001b[0m\u001b[0;34m\u001b[0m\u001b[0;34m\u001b[0m\u001b[0m\n",
      "\u001b[0;32m~/opt/anaconda3/envs/pmGrad/lib/python3.7/site-packages/pandas/io/parsers/readers.py\u001b[0m in \u001b[0;36mread_csv\u001b[0;34m(filepath_or_buffer, sep, delimiter, header, names, index_col, usecols, squeeze, prefix, mangle_dupe_cols, dtype, engine, converters, true_values, false_values, skipinitialspace, skiprows, skipfooter, nrows, na_values, keep_default_na, na_filter, verbose, skip_blank_lines, parse_dates, infer_datetime_format, keep_date_col, date_parser, dayfirst, cache_dates, iterator, chunksize, compression, thousands, decimal, lineterminator, quotechar, quoting, doublequote, escapechar, comment, encoding, encoding_errors, dialect, error_bad_lines, warn_bad_lines, on_bad_lines, delim_whitespace, low_memory, memory_map, float_precision, storage_options)\u001b[0m\n\u001b[1;32m    584\u001b[0m     \u001b[0mkwds\u001b[0m\u001b[0;34m.\u001b[0m\u001b[0mupdate\u001b[0m\u001b[0;34m(\u001b[0m\u001b[0mkwds_defaults\u001b[0m\u001b[0;34m)\u001b[0m\u001b[0;34m\u001b[0m\u001b[0;34m\u001b[0m\u001b[0m\n\u001b[1;32m    585\u001b[0m \u001b[0;34m\u001b[0m\u001b[0m\n\u001b[0;32m--> 586\u001b[0;31m     \u001b[0;32mreturn\u001b[0m \u001b[0m_read\u001b[0m\u001b[0;34m(\u001b[0m\u001b[0mfilepath_or_buffer\u001b[0m\u001b[0;34m,\u001b[0m \u001b[0mkwds\u001b[0m\u001b[0;34m)\u001b[0m\u001b[0;34m\u001b[0m\u001b[0;34m\u001b[0m\u001b[0m\n\u001b[0m\u001b[1;32m    587\u001b[0m \u001b[0;34m\u001b[0m\u001b[0m\n\u001b[1;32m    588\u001b[0m \u001b[0;34m\u001b[0m\u001b[0m\n",
      "\u001b[0;32m~/opt/anaconda3/envs/pmGrad/lib/python3.7/site-packages/pandas/io/parsers/readers.py\u001b[0m in \u001b[0;36m_read\u001b[0;34m(filepath_or_buffer, kwds)\u001b[0m\n\u001b[1;32m    480\u001b[0m \u001b[0;34m\u001b[0m\u001b[0m\n\u001b[1;32m    481\u001b[0m     \u001b[0;31m# Create the parser.\u001b[0m\u001b[0;34m\u001b[0m\u001b[0;34m\u001b[0m\u001b[0;34m\u001b[0m\u001b[0m\n\u001b[0;32m--> 482\u001b[0;31m     \u001b[0mparser\u001b[0m \u001b[0;34m=\u001b[0m \u001b[0mTextFileReader\u001b[0m\u001b[0;34m(\u001b[0m\u001b[0mfilepath_or_buffer\u001b[0m\u001b[0;34m,\u001b[0m \u001b[0;34m**\u001b[0m\u001b[0mkwds\u001b[0m\u001b[0;34m)\u001b[0m\u001b[0;34m\u001b[0m\u001b[0;34m\u001b[0m\u001b[0m\n\u001b[0m\u001b[1;32m    483\u001b[0m \u001b[0;34m\u001b[0m\u001b[0m\n\u001b[1;32m    484\u001b[0m     \u001b[0;32mif\u001b[0m \u001b[0mchunksize\u001b[0m \u001b[0;32mor\u001b[0m \u001b[0miterator\u001b[0m\u001b[0;34m:\u001b[0m\u001b[0;34m\u001b[0m\u001b[0;34m\u001b[0m\u001b[0m\n",
      "\u001b[0;32m~/opt/anaconda3/envs/pmGrad/lib/python3.7/site-packages/pandas/io/parsers/readers.py\u001b[0m in \u001b[0;36m__init__\u001b[0;34m(self, f, engine, **kwds)\u001b[0m\n\u001b[1;32m    809\u001b[0m             \u001b[0mself\u001b[0m\u001b[0;34m.\u001b[0m\u001b[0moptions\u001b[0m\u001b[0;34m[\u001b[0m\u001b[0;34m\"has_index_names\"\u001b[0m\u001b[0;34m]\u001b[0m \u001b[0;34m=\u001b[0m \u001b[0mkwds\u001b[0m\u001b[0;34m[\u001b[0m\u001b[0;34m\"has_index_names\"\u001b[0m\u001b[0;34m]\u001b[0m\u001b[0;34m\u001b[0m\u001b[0;34m\u001b[0m\u001b[0m\n\u001b[1;32m    810\u001b[0m \u001b[0;34m\u001b[0m\u001b[0m\n\u001b[0;32m--> 811\u001b[0;31m         \u001b[0mself\u001b[0m\u001b[0;34m.\u001b[0m\u001b[0m_engine\u001b[0m \u001b[0;34m=\u001b[0m \u001b[0mself\u001b[0m\u001b[0;34m.\u001b[0m\u001b[0m_make_engine\u001b[0m\u001b[0;34m(\u001b[0m\u001b[0mself\u001b[0m\u001b[0;34m.\u001b[0m\u001b[0mengine\u001b[0m\u001b[0;34m)\u001b[0m\u001b[0;34m\u001b[0m\u001b[0;34m\u001b[0m\u001b[0m\n\u001b[0m\u001b[1;32m    812\u001b[0m \u001b[0;34m\u001b[0m\u001b[0m\n\u001b[1;32m    813\u001b[0m     \u001b[0;32mdef\u001b[0m \u001b[0mclose\u001b[0m\u001b[0;34m(\u001b[0m\u001b[0mself\u001b[0m\u001b[0;34m)\u001b[0m\u001b[0;34m:\u001b[0m\u001b[0;34m\u001b[0m\u001b[0;34m\u001b[0m\u001b[0m\n",
      "\u001b[0;32m~/opt/anaconda3/envs/pmGrad/lib/python3.7/site-packages/pandas/io/parsers/readers.py\u001b[0m in \u001b[0;36m_make_engine\u001b[0;34m(self, engine)\u001b[0m\n\u001b[1;32m   1038\u001b[0m             )\n\u001b[1;32m   1039\u001b[0m         \u001b[0;31m# error: Too many arguments for \"ParserBase\"\u001b[0m\u001b[0;34m\u001b[0m\u001b[0;34m\u001b[0m\u001b[0;34m\u001b[0m\u001b[0m\n\u001b[0;32m-> 1040\u001b[0;31m         \u001b[0;32mreturn\u001b[0m \u001b[0mmapping\u001b[0m\u001b[0;34m[\u001b[0m\u001b[0mengine\u001b[0m\u001b[0;34m]\u001b[0m\u001b[0;34m(\u001b[0m\u001b[0mself\u001b[0m\u001b[0;34m.\u001b[0m\u001b[0mf\u001b[0m\u001b[0;34m,\u001b[0m \u001b[0;34m**\u001b[0m\u001b[0mself\u001b[0m\u001b[0;34m.\u001b[0m\u001b[0moptions\u001b[0m\u001b[0;34m)\u001b[0m  \u001b[0;31m# type: ignore[call-arg]\u001b[0m\u001b[0;34m\u001b[0m\u001b[0;34m\u001b[0m\u001b[0m\n\u001b[0m\u001b[1;32m   1041\u001b[0m \u001b[0;34m\u001b[0m\u001b[0m\n\u001b[1;32m   1042\u001b[0m     \u001b[0;32mdef\u001b[0m \u001b[0m_failover_to_python\u001b[0m\u001b[0;34m(\u001b[0m\u001b[0mself\u001b[0m\u001b[0;34m)\u001b[0m\u001b[0;34m:\u001b[0m\u001b[0;34m\u001b[0m\u001b[0;34m\u001b[0m\u001b[0m\n",
      "\u001b[0;32m~/opt/anaconda3/envs/pmGrad/lib/python3.7/site-packages/pandas/io/parsers/c_parser_wrapper.py\u001b[0m in \u001b[0;36m__init__\u001b[0;34m(self, src, **kwds)\u001b[0m\n\u001b[1;32m     49\u001b[0m \u001b[0;34m\u001b[0m\u001b[0m\n\u001b[1;32m     50\u001b[0m         \u001b[0;31m# open handles\u001b[0m\u001b[0;34m\u001b[0m\u001b[0;34m\u001b[0m\u001b[0;34m\u001b[0m\u001b[0m\n\u001b[0;32m---> 51\u001b[0;31m         \u001b[0mself\u001b[0m\u001b[0;34m.\u001b[0m\u001b[0m_open_handles\u001b[0m\u001b[0;34m(\u001b[0m\u001b[0msrc\u001b[0m\u001b[0;34m,\u001b[0m \u001b[0mkwds\u001b[0m\u001b[0;34m)\u001b[0m\u001b[0;34m\u001b[0m\u001b[0;34m\u001b[0m\u001b[0m\n\u001b[0m\u001b[1;32m     52\u001b[0m         \u001b[0;32massert\u001b[0m \u001b[0mself\u001b[0m\u001b[0;34m.\u001b[0m\u001b[0mhandles\u001b[0m \u001b[0;32mis\u001b[0m \u001b[0;32mnot\u001b[0m \u001b[0;32mNone\u001b[0m\u001b[0;34m\u001b[0m\u001b[0;34m\u001b[0m\u001b[0m\n\u001b[1;32m     53\u001b[0m \u001b[0;34m\u001b[0m\u001b[0m\n",
      "\u001b[0;32m~/opt/anaconda3/envs/pmGrad/lib/python3.7/site-packages/pandas/io/parsers/base_parser.py\u001b[0m in \u001b[0;36m_open_handles\u001b[0;34m(self, src, kwds)\u001b[0m\n\u001b[1;32m    227\u001b[0m             \u001b[0mmemory_map\u001b[0m\u001b[0;34m=\u001b[0m\u001b[0mkwds\u001b[0m\u001b[0;34m.\u001b[0m\u001b[0mget\u001b[0m\u001b[0;34m(\u001b[0m\u001b[0;34m\"memory_map\"\u001b[0m\u001b[0;34m,\u001b[0m \u001b[0;32mFalse\u001b[0m\u001b[0;34m)\u001b[0m\u001b[0;34m,\u001b[0m\u001b[0;34m\u001b[0m\u001b[0;34m\u001b[0m\u001b[0m\n\u001b[1;32m    228\u001b[0m             \u001b[0mstorage_options\u001b[0m\u001b[0;34m=\u001b[0m\u001b[0mkwds\u001b[0m\u001b[0;34m.\u001b[0m\u001b[0mget\u001b[0m\u001b[0;34m(\u001b[0m\u001b[0;34m\"storage_options\"\u001b[0m\u001b[0;34m,\u001b[0m \u001b[0;32mNone\u001b[0m\u001b[0;34m)\u001b[0m\u001b[0;34m,\u001b[0m\u001b[0;34m\u001b[0m\u001b[0;34m\u001b[0m\u001b[0m\n\u001b[0;32m--> 229\u001b[0;31m             \u001b[0merrors\u001b[0m\u001b[0;34m=\u001b[0m\u001b[0mkwds\u001b[0m\u001b[0;34m.\u001b[0m\u001b[0mget\u001b[0m\u001b[0;34m(\u001b[0m\u001b[0;34m\"encoding_errors\"\u001b[0m\u001b[0;34m,\u001b[0m \u001b[0;34m\"strict\"\u001b[0m\u001b[0;34m)\u001b[0m\u001b[0;34m,\u001b[0m\u001b[0;34m\u001b[0m\u001b[0;34m\u001b[0m\u001b[0m\n\u001b[0m\u001b[1;32m    230\u001b[0m         )\n\u001b[1;32m    231\u001b[0m \u001b[0;34m\u001b[0m\u001b[0m\n",
      "\u001b[0;32m~/opt/anaconda3/envs/pmGrad/lib/python3.7/site-packages/pandas/io/common.py\u001b[0m in \u001b[0;36mget_handle\u001b[0;34m(path_or_buf, mode, encoding, compression, memory_map, is_text, errors, storage_options)\u001b[0m\n\u001b[1;32m    705\u001b[0m                 \u001b[0mencoding\u001b[0m\u001b[0;34m=\u001b[0m\u001b[0mioargs\u001b[0m\u001b[0;34m.\u001b[0m\u001b[0mencoding\u001b[0m\u001b[0;34m,\u001b[0m\u001b[0;34m\u001b[0m\u001b[0;34m\u001b[0m\u001b[0m\n\u001b[1;32m    706\u001b[0m                 \u001b[0merrors\u001b[0m\u001b[0;34m=\u001b[0m\u001b[0merrors\u001b[0m\u001b[0;34m,\u001b[0m\u001b[0;34m\u001b[0m\u001b[0;34m\u001b[0m\u001b[0m\n\u001b[0;32m--> 707\u001b[0;31m                 \u001b[0mnewline\u001b[0m\u001b[0;34m=\u001b[0m\u001b[0;34m\"\"\u001b[0m\u001b[0;34m,\u001b[0m\u001b[0;34m\u001b[0m\u001b[0;34m\u001b[0m\u001b[0m\n\u001b[0m\u001b[1;32m    708\u001b[0m             )\n\u001b[1;32m    709\u001b[0m         \u001b[0;32melse\u001b[0m\u001b[0;34m:\u001b[0m\u001b[0;34m\u001b[0m\u001b[0;34m\u001b[0m\u001b[0m\n",
      "\u001b[0;31mFileNotFoundError\u001b[0m: [Errno 2] No such file or directory: '/Users/meruozhu/Downloads/MP_data/MP_codes/MP/Data/synthetic_logs/IOR/IOR10k_direct_ProM.csv'"
     ]
    }
   ],
   "source": [
    "df = pd.read_csv('/Users/meruozhu/Downloads/MP_data/MP_codes/MP/Data/synthetic_logs/IOR/IOR10k_direct_ProM.csv')\n",
    "df_mini = df[:2000]\n",
    "df_mini.head()\n",
    "df_mini.to_csv('/Users/meruozhu/Downloads/MP_data/MP_codes/MP/Data/test_dataset/IOR10k_mini.csv')"
   ]
  },
  {
   "attachments": {},
   "cell_type": "markdown",
   "metadata": {},
   "source": [
    "## keep the unique case-event rows with meaningful org:source"
   ]
  },
  {
   "cell_type": "code",
   "execution_count": null,
   "metadata": {},
   "outputs": [],
   "source": [
    "df_diy = pd.read_csv('/Users/meruozhu/Downloads/MP_data/MP_codes/MP/Data/synthetic_logs/IOR/IOR10k.csv')"
   ]
  },
  {
   "cell_type": "code",
   "execution_count": null,
   "metadata": {},
   "outputs": [
    {
     "data": {
      "text/plain": [
       "0              NaN\n",
       "1              1.0\n",
       "2              NaN\n",
       "3              2.0\n",
       "4              NaN\n",
       "            ...   \n",
       "209479    104740.0\n",
       "209480         NaN\n",
       "209481    104741.0\n",
       "209482         NaN\n",
       "209483    104742.0\n",
       "Name: concept:instance, Length: 209484, dtype: float64"
      ]
     },
     "execution_count": 36,
     "metadata": {},
     "output_type": "execute_result"
    }
   ],
   "source": [
    "# Assuming the DataFrame is stored in the variable 'df' and the column name is 'concept:instance'\n",
    "df_diy['concept:instance'] = df_diy['concept:instance'].fillna(0).astype(int)\n"
   ]
  },
  {
   "cell_type": "code",
   "execution_count": null,
   "metadata": {},
   "outputs": [
    {
     "data": {
      "text/plain": [
       "array([        nan, 1.00000e+00, 2.00000e+00, ..., 1.04740e+05,\n",
       "       1.04741e+05, 1.04742e+05])"
      ]
     },
     "execution_count": 37,
     "metadata": {},
     "output_type": "execute_result"
    }
   ],
   "source": [
    "df_diy['concept:instance'].unique()"
   ]
  },
  {
   "cell_type": "code",
   "execution_count": null,
   "metadata": {},
   "outputs": [
    {
     "data": {
      "text/html": [
       "<div>\n",
       "<style scoped>\n",
       "    .dataframe tbody tr th:only-of-type {\n",
       "        vertical-align: middle;\n",
       "    }\n",
       "\n",
       "    .dataframe tbody tr th {\n",
       "        vertical-align: top;\n",
       "    }\n",
       "\n",
       "    .dataframe thead th {\n",
       "        text-align: right;\n",
       "    }\n",
       "</style>\n",
       "<table border=\"1\" class=\"dataframe\">\n",
       "  <thead>\n",
       "    <tr style=\"text-align: right;\">\n",
       "      <th></th>\n",
       "      <th>concept:name</th>\n",
       "      <th>lifecycle:transition</th>\n",
       "      <th>time:timestamp</th>\n",
       "      <th>case:concept:name</th>\n",
       "      <th>case:LogType</th>\n",
       "      <th>concept:instance</th>\n",
       "      <th>org:resource</th>\n",
       "    </tr>\n",
       "  </thead>\n",
       "  <tbody>\n",
       "    <tr>\n",
       "      <th>33492</th>\n",
       "      <td>Added Activity</td>\n",
       "      <td>assign</td>\n",
       "      <td>2005-03-05 09:43:36.536000+00:00</td>\n",
       "      <td>ior1_0</td>\n",
       "      <td>MXML.EnactmentLog</td>\n",
       "      <td>NaN</td>\n",
       "      <td>Default Resource</td>\n",
       "    </tr>\n",
       "    <tr>\n",
       "      <th>40624</th>\n",
       "      <td>Added Activity</td>\n",
       "      <td>assign</td>\n",
       "      <td>2005-03-05 12:00:56.991000+00:00</td>\n",
       "      <td>ior1_1</td>\n",
       "      <td>MXML.EnactmentLog</td>\n",
       "      <td>NaN</td>\n",
       "      <td>Default Resource</td>\n",
       "    </tr>\n",
       "    <tr>\n",
       "      <th>20923</th>\n",
       "      <td>Added Activity</td>\n",
       "      <td>assign</td>\n",
       "      <td>2005-03-13 13:06:36.474000+00:00</td>\n",
       "      <td>ior1_100</td>\n",
       "      <td>MXML.EnactmentLog</td>\n",
       "      <td>NaN</td>\n",
       "      <td>Default Resource</td>\n",
       "    </tr>\n",
       "    <tr>\n",
       "      <th>37074</th>\n",
       "      <td>Added Activity</td>\n",
       "      <td>assign</td>\n",
       "      <td>2005-03-13 14:35:59.383000+00:00</td>\n",
       "      <td>ior1_101</td>\n",
       "      <td>MXML.EnactmentLog</td>\n",
       "      <td>NaN</td>\n",
       "      <td>Default Resource</td>\n",
       "    </tr>\n",
       "    <tr>\n",
       "      <th>24017</th>\n",
       "      <td>Added Activity</td>\n",
       "      <td>assign</td>\n",
       "      <td>2005-03-13 14:11:24.284000+00:00</td>\n",
       "      <td>ior1_102</td>\n",
       "      <td>MXML.EnactmentLog</td>\n",
       "      <td>NaN</td>\n",
       "      <td>Default Resource</td>\n",
       "    </tr>\n",
       "    <tr>\n",
       "      <th>...</th>\n",
       "      <td>...</td>\n",
       "      <td>...</td>\n",
       "      <td>...</td>\n",
       "      <td>...</td>\n",
       "      <td>...</td>\n",
       "      <td>...</td>\n",
       "      <td>...</td>\n",
       "    </tr>\n",
       "    <tr>\n",
       "      <th>198438</th>\n",
       "      <td>Loan application rejected</td>\n",
       "      <td>assign</td>\n",
       "      <td>2013-05-29 16:20:58.365000+00:00</td>\n",
       "      <td>ior5_988</td>\n",
       "      <td>MXML.EnactmentLog</td>\n",
       "      <td>NaN</td>\n",
       "      <td>NaN</td>\n",
       "    </tr>\n",
       "    <tr>\n",
       "      <th>206552</th>\n",
       "      <td>Loan application rejected</td>\n",
       "      <td>assign</td>\n",
       "      <td>2013-03-13 14:24:59.615000+00:00</td>\n",
       "      <td>ior5_99</td>\n",
       "      <td>MXML.EnactmentLog</td>\n",
       "      <td>NaN</td>\n",
       "      <td>NaN</td>\n",
       "    </tr>\n",
       "    <tr>\n",
       "      <th>204054</th>\n",
       "      <td>Loan application rejected</td>\n",
       "      <td>assign</td>\n",
       "      <td>2013-06-01 10:04:07.257000+00:00</td>\n",
       "      <td>ior5_991</td>\n",
       "      <td>MXML.EnactmentLog</td>\n",
       "      <td>NaN</td>\n",
       "      <td>NaN</td>\n",
       "    </tr>\n",
       "    <tr>\n",
       "      <th>190982</th>\n",
       "      <td>Loan application rejected</td>\n",
       "      <td>assign</td>\n",
       "      <td>2013-06-01 11:11:27.360000+00:00</td>\n",
       "      <td>ior5_993</td>\n",
       "      <td>MXML.EnactmentLog</td>\n",
       "      <td>NaN</td>\n",
       "      <td>NaN</td>\n",
       "    </tr>\n",
       "    <tr>\n",
       "      <th>194974</th>\n",
       "      <td>Loan application rejected</td>\n",
       "      <td>assign</td>\n",
       "      <td>2013-06-01 13:24:03.365000+00:00</td>\n",
       "      <td>ior5_998</td>\n",
       "      <td>MXML.EnactmentLog</td>\n",
       "      <td>NaN</td>\n",
       "      <td>NaN</td>\n",
       "    </tr>\n",
       "  </tbody>\n",
       "</table>\n",
       "<p>103411 rows × 7 columns</p>\n",
       "</div>"
      ],
      "text/plain": [
       "                     concept:name lifecycle:transition  \\\n",
       "33492              Added Activity               assign   \n",
       "40624              Added Activity               assign   \n",
       "20923              Added Activity               assign   \n",
       "37074              Added Activity               assign   \n",
       "24017              Added Activity               assign   \n",
       "...                           ...                  ...   \n",
       "198438  Loan application rejected               assign   \n",
       "206552  Loan application rejected               assign   \n",
       "204054  Loan application rejected               assign   \n",
       "190982  Loan application rejected               assign   \n",
       "194974  Loan application rejected               assign   \n",
       "\n",
       "                          time:timestamp case:concept:name       case:LogType  \\\n",
       "33492   2005-03-05 09:43:36.536000+00:00            ior1_0  MXML.EnactmentLog   \n",
       "40624   2005-03-05 12:00:56.991000+00:00            ior1_1  MXML.EnactmentLog   \n",
       "20923   2005-03-13 13:06:36.474000+00:00          ior1_100  MXML.EnactmentLog   \n",
       "37074   2005-03-13 14:35:59.383000+00:00          ior1_101  MXML.EnactmentLog   \n",
       "24017   2005-03-13 14:11:24.284000+00:00          ior1_102  MXML.EnactmentLog   \n",
       "...                                  ...               ...                ...   \n",
       "198438  2013-05-29 16:20:58.365000+00:00          ior5_988  MXML.EnactmentLog   \n",
       "206552  2013-03-13 14:24:59.615000+00:00           ior5_99  MXML.EnactmentLog   \n",
       "204054  2013-06-01 10:04:07.257000+00:00          ior5_991  MXML.EnactmentLog   \n",
       "190982  2013-06-01 11:11:27.360000+00:00          ior5_993  MXML.EnactmentLog   \n",
       "194974  2013-06-01 13:24:03.365000+00:00          ior5_998  MXML.EnactmentLog   \n",
       "\n",
       "        concept:instance      org:resource  \n",
       "33492                NaN  Default Resource  \n",
       "40624                NaN  Default Resource  \n",
       "20923                NaN  Default Resource  \n",
       "37074                NaN  Default Resource  \n",
       "24017                NaN  Default Resource  \n",
       "...                  ...               ...  \n",
       "198438               NaN               NaN  \n",
       "206552               NaN               NaN  \n",
       "204054               NaN               NaN  \n",
       "190982               NaN               NaN  \n",
       "194974               NaN               NaN  \n",
       "\n",
       "[103411 rows x 7 columns]"
      ]
     },
     "execution_count": 30,
     "metadata": {},
     "output_type": "execute_result"
    }
   ],
   "source": [
    "df = df_diy\n",
    "# Function to check if a value is an integer\n",
    "def is_integer(x):\n",
    "    try:\n",
    "        return int(x) == float(x)\n",
    "    except:\n",
    "        return False\n",
    "\n",
    "# Create a new column that will be used for sorting\n",
    "df['sort_order'] = df['org:resource'].apply(lambda x: 0 if is_integer(x) else 1 if pd.notna(x) else 2)\n",
    "\n",
    "# Sort DataFrame by 'sort_order', 'concept:name', 'case:concept:name'\n",
    "df = df.sort_values(by=['sort_order', 'concept:name', 'case:concept:name'])\n",
    "\n",
    "# Drop duplicates based on 'concept:name' and 'case:concept:name', keeping the first occurrence\n",
    "df = df.drop_duplicates(subset=['concept:name', 'case:concept:name'], keep='first')\n",
    "\n",
    "# Drop the temporary 'sort_order' column\n",
    "df = df.drop(columns=['sort_order'])\n",
    "\n",
    "# Resulting DataFrame\n",
    "df"
   ]
  },
  {
   "cell_type": "code",
   "execution_count": null,
   "metadata": {},
   "outputs": [
    {
     "data": {
      "text/plain": [
       "array(['Default Resource', 'infinite_ressource', nan], dtype=object)"
      ]
     },
     "execution_count": 31,
     "metadata": {},
     "output_type": "execute_result"
    }
   ],
   "source": [
    "df['org:resource'].unique()"
   ]
  },
  {
   "cell_type": "code",
   "execution_count": null,
   "metadata": {},
   "outputs": [
    {
     "data": {
      "text/html": [
       "<div>\n",
       "<style scoped>\n",
       "    .dataframe tbody tr th:only-of-type {\n",
       "        vertical-align: middle;\n",
       "    }\n",
       "\n",
       "    .dataframe tbody tr th {\n",
       "        vertical-align: top;\n",
       "    }\n",
       "\n",
       "    .dataframe thead th {\n",
       "        text-align: right;\n",
       "    }\n",
       "</style>\n",
       "<table border=\"1\" class=\"dataframe\">\n",
       "  <thead>\n",
       "    <tr style=\"text-align: right;\">\n",
       "      <th></th>\n",
       "      <th>event</th>\n",
       "    </tr>\n",
       "    <tr>\n",
       "      <th>case</th>\n",
       "      <th></th>\n",
       "    </tr>\n",
       "  </thead>\n",
       "  <tbody>\n",
       "    <tr>\n",
       "      <th>b1_0</th>\n",
       "      <td>12</td>\n",
       "    </tr>\n",
       "    <tr>\n",
       "      <th>b1_1</th>\n",
       "      <td>8</td>\n",
       "    </tr>\n",
       "    <tr>\n",
       "      <th>b1_10</th>\n",
       "      <td>8</td>\n",
       "    </tr>\n",
       "    <tr>\n",
       "      <th>b1_100</th>\n",
       "      <td>12</td>\n",
       "    </tr>\n",
       "    <tr>\n",
       "      <th>b1_101</th>\n",
       "      <td>12</td>\n",
       "    </tr>\n",
       "    <tr>\n",
       "      <th>...</th>\n",
       "      <td>...</td>\n",
       "    </tr>\n",
       "    <tr>\n",
       "      <th>ior5_995</th>\n",
       "      <td>12</td>\n",
       "    </tr>\n",
       "    <tr>\n",
       "      <th>ior5_996</th>\n",
       "      <td>12</td>\n",
       "    </tr>\n",
       "    <tr>\n",
       "      <th>ior5_997</th>\n",
       "      <td>12</td>\n",
       "    </tr>\n",
       "    <tr>\n",
       "      <th>ior5_998</th>\n",
       "      <td>8</td>\n",
       "    </tr>\n",
       "    <tr>\n",
       "      <th>ior5_999</th>\n",
       "      <td>12</td>\n",
       "    </tr>\n",
       "  </tbody>\n",
       "</table>\n",
       "<p>10000 rows × 1 columns</p>\n",
       "</div>"
      ],
      "text/plain": [
       "          event\n",
       "case           \n",
       "b1_0         12\n",
       "b1_1          8\n",
       "b1_10         8\n",
       "b1_100       12\n",
       "b1_101       12\n",
       "...         ...\n",
       "ior5_995     12\n",
       "ior5_996     12\n",
       "ior5_997     12\n",
       "ior5_998      8\n",
       "ior5_999     12\n",
       "\n",
       "[10000 rows x 1 columns]"
      ]
     },
     "execution_count": 17,
     "metadata": {},
     "output_type": "execute_result"
    }
   ],
   "source": [
    "df.groupby('case').agg({'event': 'count'})"
   ]
  },
  {
   "attachments": {},
   "cell_type": "markdown",
   "metadata": {},
   "source": [
    "## find drift position"
   ]
  },
  {
   "cell_type": "code",
   "execution_count": 4,
   "metadata": {},
   "outputs": [
    {
     "name": "stdout",
     "output_type": "stream",
     "text": [
      "Num unique cases: 1500\n",
      "Data Name: IRO2500\n",
      "Drift Locations: [1564, 3130, 4878, 6484, 8040, 9728, 11389, 12934, 14575, 16268, 17776, 19378, 20975, 22540, 24132, 25846]\n"
     ]
    }
   ],
   "source": [
    "import pandas as pd\n",
    "\n",
    "def get_drift_locations(file_path):\n",
    "    # Extracting data name from the file path\n",
    "    data_name = file_path.split('/')[-1].replace('.csv', '')\n",
    "\n",
    "    # Reading the CSV file\n",
    "    df = pd.read_csv(file_path)\n",
    "\n",
    "    # Finding the unique cases and calculating the drift interval\n",
    "    num_unique_cases = df['case'].nunique()\n",
    "    print(\"Num unique cases:\", num_unique_cases)\n",
    "    drift_interval = num_unique_cases // 10\n",
    "\n",
    "    # Finding the drift locations based on the drift interval\n",
    "    drift_locations = []\n",
    "    case_count = 0\n",
    "    previous_case = None\n",
    "    for index, row in df.iterrows():\n",
    "        current_case = row['case']\n",
    "        if current_case != previous_case:\n",
    "            case_count += 1\n",
    "            if case_count % drift_interval == 0:\n",
    "                drift_locations.append(index)\n",
    "        previous_case = current_case\n",
    "\n",
    "    return data_name, drift_locations\n",
    "\n",
    "file = '/Users/meruozhu/Downloads/MP_data/MP_codes/MP/Data/synthetic_dataset/IRO2500.csv'\n",
    "data_name, drift_locations = get_drift_locations(file)\n",
    "print(\"Data Name:\", data_name)\n",
    "print(\"Drift Locations:\", drift_locations)\n"
   ]
  },
  {
   "attachments": {},
   "cell_type": "markdown",
   "metadata": {},
   "source": [
    "### get monthly batch size"
   ]
  },
  {
   "cell_type": "code",
   "execution_count": 5,
   "metadata": {},
   "outputs": [
    {
     "name": "stdout",
     "output_type": "stream",
     "text": [
      "Average Monthly Number of Events: 24.546511627906977\n"
     ]
    }
   ],
   "source": [
    "import pandas as pd\n",
    "\n",
    "def average_monthly_events(file_path):\n",
    "    # Read the CSV file\n",
    "    df = pd.read_csv(file_path)\n",
    "\n",
    "    # Convert the \"completeTime\" column to a datetime object\n",
    "    df['completeTime'] = pd.to_datetime(df['completeTime'], errors='coerce')\n",
    "\n",
    "    # Extracting the month and year from the \"completeTime\" column\n",
    "    df['month_year'] = df['completeTime'].dt.to_period('M')\n",
    "\n",
    "    # Grouping by the month and year and counting the number of events\n",
    "    monthly_events = df.groupby('month_year').size()\n",
    "\n",
    "    # Calculating the average number of events per month\n",
    "    avg_events_per_month = monthly_events.mean()\n",
    "\n",
    "    return avg_events_per_month\n",
    "\n",
    "#file = '/Users/meruozhu/Downloads/MP_data/MP_codes/MP/Data/synthetic_dataset/ROI5000.csv'\n",
    "avg_events = average_monthly_events(file)\n",
    "print(\"Average Monthly Number of Events:\", avg_events)\n"
   ]
  },
  {
   "cell_type": "code",
   "execution_count": null,
   "metadata": {},
   "outputs": [],
   "source": []
  }
 ],
 "metadata": {
  "kernelspec": {
   "display_name": "pmGrad",
   "language": "python",
   "name": "python3"
  },
  "language_info": {
   "codemirror_mode": {
    "name": "ipython",
    "version": 3
   },
   "file_extension": ".py",
   "mimetype": "text/x-python",
   "name": "python",
   "nbconvert_exporter": "python",
   "pygments_lexer": "ipython3",
   "version": "3.7.7"
  },
  "orig_nbformat": 4
 },
 "nbformat": 4,
 "nbformat_minor": 2
}
